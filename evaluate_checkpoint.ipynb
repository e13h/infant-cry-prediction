{
 "metadata": {
  "language_info": {
   "codemirror_mode": {
    "name": "ipython",
    "version": 3
   },
   "file_extension": ".py",
   "mimetype": "text/x-python",
   "name": "python",
   "nbconvert_exporter": "python",
   "pygments_lexer": "ipython3",
   "version": "3.6.12-final"
  },
  "orig_nbformat": 2,
  "kernelspec": {
   "name": "python3",
   "display_name": "Python 3",
   "language": "python"
  }
 },
 "nbformat": 4,
 "nbformat_minor": 2,
 "cells": [
  {
   "cell_type": "code",
   "execution_count": 1,
   "metadata": {},
   "outputs": [],
   "source": [
    "import torch\n",
    "from torch.nn import CrossEntropyLoss\n",
    "from torch.utils.data import DataLoader\n",
    "from tqdm import tqdm\n",
    "import numpy as np\n",
    "from sklearn.metrics import f1_score\n",
    "from utils import load_checkpoint, evaluate\n",
    "from dataset import DonateACryDataset"
   ]
  },
  {
   "cell_type": "code",
   "execution_count": 2,
   "metadata": {},
   "outputs": [],
   "source": [
    "clean_dirs = ['./donateacry-corpus/donateacry_corpus_cleaned_and_updated_data/']\n",
    "clean_test_data = DonateACryDataset(clean_dirs, train=False)"
   ]
  },
  {
   "cell_type": "code",
   "execution_count": 10,
   "metadata": {},
   "outputs": [
    {
     "output_type": "stream",
     "name": "stderr",
     "text": [
      "  0%|          | 0/92 [00:00<?, ?it/s]"
     ]
    }
   ],
   "source": [
    "batch_size = 1\n",
    "clean_test_loader = DataLoader(clean_test_data, batch_size=batch_size, shuffle=False, num_workers=2, pin_memory=True)\n",
    "\n",
    "loss = CrossEntropyLoss()\n",
    "device = torch.device('cuda' if torch.cuda.is_available() else 'cpu')\n",
    "bar = tqdm(total=len(clean_test_loader), position=0, leave=True)\n",
    "\n",
    "saved_model = load_checkpoint('checkpoint-136_epochs.pth', dir='./checkpoints').cuda()"
   ]
  },
  {
   "cell_type": "code",
   "execution_count": 11,
   "metadata": {},
   "outputs": [
    {
     "output_type": "stream",
     "name": "stderr",
     "text": [
      "evaluating: 100%|██████████| 18400/18400 [2:02:06<00:00,  2.51it/s]\n",
      "evaluating: 100%|██████████| 92/92 [00:35<00:00,  2.69it/s]"
     ]
    }
   ],
   "source": [
    "losses, accuracies, preds = evaluate(saved_model, clean_test_loader, loss, device, bar)"
   ]
  },
  {
   "cell_type": "code",
   "execution_count": 12,
   "metadata": {},
   "outputs": [
    {
     "output_type": "stream",
     "name": "stdout",
     "text": [
      "num epochs trained 136\nmicro: 0.8478260869565218\nmacro: 0.6595959595959596\ndistribution of preds: (array([0, 1, 2, 3, 4]), array([ 7,  4, 77,  1,  3]))\n"
     ]
    }
   ],
   "source": [
    "print('num epochs trained', saved_model.num_epochs_trained)\n",
    "print('micro:', f1_score(clean_test_data.data.target, preds, average='micro'))\n",
    "print('macro:', f1_score(clean_test_data.data.target, preds, average='macro'))\n",
    "print('distribution of preds:', np.unique(preds, return_counts=True))"
   ]
  }
 ]
}